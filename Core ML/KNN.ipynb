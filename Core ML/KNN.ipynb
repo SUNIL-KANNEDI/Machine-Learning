{
  "nbformat": 4,
  "nbformat_minor": 0,
  "metadata": {
    "colab": {
      "provenance": []
    },
    "kernelspec": {
      "name": "python3",
      "display_name": "Python 3"
    },
    "language_info": {
      "name": "python"
    }
  },
  "cells": [
    {
      "cell_type": "markdown",
      "source": [
        "KNN implementation"
      ],
      "metadata": {
        "id": "sceOfMEXGgXO"
      }
    },
    {
      "cell_type": "code",
      "execution_count": null,
      "metadata": {
        "id": "QsS5fHT2oOL-"
      },
      "outputs": [],
      "source": [
        "# implementation of knn algorithm\n",
        "import numpy as np\n",
        "import matplotlib.pyplot as plt\n",
        "import math"
      ]
    },
    {
      "cell_type": "code",
      "source": [
        "def calculate_distance(test_point,train_point):\n",
        "  return math.sqrt(math.pow(test_point[0]-train_point[0],2)+math.pow(test_point[1]-train_point[1],2))\n",
        "class knn:\n",
        "  def __init__(self,train,test,k,No_classes):\n",
        "    self.train = train\n",
        "    self.test = test\n",
        "    self.k = k\n",
        "    self.No_classes = No_classes\n",
        "\n",
        "  def predict(self):\n",
        "    for test_point in self.test:\n",
        "      distance = []\n",
        "      predicted = []\n",
        "      for train_point in self.train:\n",
        "        dist = calculate_distance(test_point,train_point)\n",
        "        distance.append([dist,train_point[-1]])\n",
        "      distance.sort()\n",
        "      distance = distance\n",
        "      clss = [0]*self.No_classes\n",
        "      for i in range(self.k):\n",
        "        t = distance[i][-1]\n",
        "        clss[t-1]=clss[t-1]+1\n",
        "      mx = max(clss)\n",
        "      for i in range(self.No_classes):\n",
        "        if mx == clss[i]:\n",
        "          predicted.append(i+1)\n",
        "          #break\n",
        "      print(predicted)\n",
        "    return predicted\n",
        "\n",
        "\n",
        "\n",
        "\n",
        "\n"
      ],
      "metadata": {
        "id": "flRTrHI0xuAO"
      },
      "execution_count": null,
      "outputs": []
    },
    {
      "cell_type": "code",
      "source": [
        "import random\n",
        "data = []\n",
        "for i in range(100):\n",
        "  point = [random.randint(1,100) for i in range(2)]\n",
        "  point.append(random.randint(1,2))\n",
        "  data.append(point)\n",
        "data"
      ],
      "metadata": {
        "colab": {
          "base_uri": "https://localhost:8080/"
        },
        "id": "YSu0_sZSv02r",
        "outputId": "f6c9cb34-5d6a-437d-dd62-0f7327627535"
      },
      "execution_count": null,
      "outputs": [
        {
          "output_type": "execute_result",
          "data": {
            "text/plain": [
              "[[40, 12, 2],\n",
              " [3, 25, 1],\n",
              " [45, 16, 1],\n",
              " [89, 3, 2],\n",
              " [32, 15, 2],\n",
              " [15, 65, 2],\n",
              " [81, 69, 1],\n",
              " [20, 74, 1],\n",
              " [19, 82, 2],\n",
              " [52, 76, 1],\n",
              " [40, 10, 1],\n",
              " [90, 13, 1],\n",
              " [36, 71, 2],\n",
              " [14, 8, 2],\n",
              " [73, 16, 2],\n",
              " [7, 36, 2],\n",
              " [78, 41, 2],\n",
              " [88, 23, 2],\n",
              " [48, 82, 2],\n",
              " [56, 45, 1],\n",
              " [86, 60, 2],\n",
              " [99, 48, 2],\n",
              " [45, 49, 1],\n",
              " [93, 43, 2],\n",
              " [26, 48, 1],\n",
              " [30, 7, 2],\n",
              " [58, 8, 2],\n",
              " [90, 81, 2],\n",
              " [27, 13, 2],\n",
              " [62, 99, 2],\n",
              " [79, 81, 1],\n",
              " [91, 9, 2],\n",
              " [36, 19, 1],\n",
              " [6, 47, 1],\n",
              " [98, 38, 1],\n",
              " [14, 34, 1],\n",
              " [28, 30, 1],\n",
              " [29, 27, 1],\n",
              " [93, 7, 1],\n",
              " [2, 54, 1],\n",
              " [72, 11, 2],\n",
              " [99, 60, 1],\n",
              " [91, 10, 2],\n",
              " [22, 96, 1],\n",
              " [66, 52, 1],\n",
              " [38, 66, 1],\n",
              " [20, 47, 1],\n",
              " [7, 46, 2],\n",
              " [70, 96, 2],\n",
              " [28, 72, 2],\n",
              " [52, 10, 2],\n",
              " [50, 17, 1],\n",
              " [26, 21, 1],\n",
              " [78, 21, 1],\n",
              " [1, 33, 2],\n",
              " [19, 63, 2],\n",
              " [77, 44, 1],\n",
              " [71, 49, 1],\n",
              " [93, 68, 1],\n",
              " [52, 64, 2],\n",
              " [86, 9, 2],\n",
              " [40, 25, 1],\n",
              " [85, 60, 2],\n",
              " [16, 42, 1],\n",
              " [77, 84, 2],\n",
              " [90, 84, 2],\n",
              " [28, 30, 1],\n",
              " [7, 90, 2],\n",
              " [78, 2, 2],\n",
              " [22, 21, 2],\n",
              " [95, 92, 1],\n",
              " [11, 6, 1],\n",
              " [38, 84, 2],\n",
              " [83, 99, 1],\n",
              " [76, 38, 2],\n",
              " [42, 8, 2],\n",
              " [43, 12, 1],\n",
              " [77, 34, 1],\n",
              " [59, 48, 1],\n",
              " [82, 77, 1],\n",
              " [10, 28, 1],\n",
              " [94, 76, 1],\n",
              " [98, 63, 1],\n",
              " [68, 6, 1],\n",
              " [14, 5, 2],\n",
              " [21, 97, 1],\n",
              " [87, 65, 1],\n",
              " [14, 9, 2],\n",
              " [98, 92, 2],\n",
              " [87, 37, 1],\n",
              " [86, 51, 1],\n",
              " [75, 22, 2],\n",
              " [58, 66, 1],\n",
              " [39, 38, 2],\n",
              " [86, 94, 1],\n",
              " [65, 65, 2],\n",
              " [86, 26, 2],\n",
              " [13, 62, 2],\n",
              " [58, 41, 2],\n",
              " [6, 54, 2]]"
            ]
          },
          "metadata": {},
          "execution_count": 12
        }
      ]
    },
    {
      "cell_type": "code",
      "source": [
        "df = np.array(data)\n",
        "df"
      ],
      "metadata": {
        "colab": {
          "base_uri": "https://localhost:8080/"
        },
        "id": "VIxwjDzjwXdo",
        "outputId": "84f5614e-9bf8-45d0-a0f9-6bd9631c9d9d"
      },
      "execution_count": null,
      "outputs": [
        {
          "output_type": "execute_result",
          "data": {
            "text/plain": [
              "array([[40, 12,  2],\n",
              "       [ 3, 25,  1],\n",
              "       [45, 16,  1],\n",
              "       [89,  3,  2],\n",
              "       [32, 15,  2],\n",
              "       [15, 65,  2],\n",
              "       [81, 69,  1],\n",
              "       [20, 74,  1],\n",
              "       [19, 82,  2],\n",
              "       [52, 76,  1],\n",
              "       [40, 10,  1],\n",
              "       [90, 13,  1],\n",
              "       [36, 71,  2],\n",
              "       [14,  8,  2],\n",
              "       [73, 16,  2],\n",
              "       [ 7, 36,  2],\n",
              "       [78, 41,  2],\n",
              "       [88, 23,  2],\n",
              "       [48, 82,  2],\n",
              "       [56, 45,  1],\n",
              "       [86, 60,  2],\n",
              "       [99, 48,  2],\n",
              "       [45, 49,  1],\n",
              "       [93, 43,  2],\n",
              "       [26, 48,  1],\n",
              "       [30,  7,  2],\n",
              "       [58,  8,  2],\n",
              "       [90, 81,  2],\n",
              "       [27, 13,  2],\n",
              "       [62, 99,  2],\n",
              "       [79, 81,  1],\n",
              "       [91,  9,  2],\n",
              "       [36, 19,  1],\n",
              "       [ 6, 47,  1],\n",
              "       [98, 38,  1],\n",
              "       [14, 34,  1],\n",
              "       [28, 30,  1],\n",
              "       [29, 27,  1],\n",
              "       [93,  7,  1],\n",
              "       [ 2, 54,  1],\n",
              "       [72, 11,  2],\n",
              "       [99, 60,  1],\n",
              "       [91, 10,  2],\n",
              "       [22, 96,  1],\n",
              "       [66, 52,  1],\n",
              "       [38, 66,  1],\n",
              "       [20, 47,  1],\n",
              "       [ 7, 46,  2],\n",
              "       [70, 96,  2],\n",
              "       [28, 72,  2],\n",
              "       [52, 10,  2],\n",
              "       [50, 17,  1],\n",
              "       [26, 21,  1],\n",
              "       [78, 21,  1],\n",
              "       [ 1, 33,  2],\n",
              "       [19, 63,  2],\n",
              "       [77, 44,  1],\n",
              "       [71, 49,  1],\n",
              "       [93, 68,  1],\n",
              "       [52, 64,  2],\n",
              "       [86,  9,  2],\n",
              "       [40, 25,  1],\n",
              "       [85, 60,  2],\n",
              "       [16, 42,  1],\n",
              "       [77, 84,  2],\n",
              "       [90, 84,  2],\n",
              "       [28, 30,  1],\n",
              "       [ 7, 90,  2],\n",
              "       [78,  2,  2],\n",
              "       [22, 21,  2],\n",
              "       [95, 92,  1],\n",
              "       [11,  6,  1],\n",
              "       [38, 84,  2],\n",
              "       [83, 99,  1],\n",
              "       [76, 38,  2],\n",
              "       [42,  8,  2],\n",
              "       [43, 12,  1],\n",
              "       [77, 34,  1],\n",
              "       [59, 48,  1],\n",
              "       [82, 77,  1],\n",
              "       [10, 28,  1],\n",
              "       [94, 76,  1],\n",
              "       [98, 63,  1],\n",
              "       [68,  6,  1],\n",
              "       [14,  5,  2],\n",
              "       [21, 97,  1],\n",
              "       [87, 65,  1],\n",
              "       [14,  9,  2],\n",
              "       [98, 92,  2],\n",
              "       [87, 37,  1],\n",
              "       [86, 51,  1],\n",
              "       [75, 22,  2],\n",
              "       [58, 66,  1],\n",
              "       [39, 38,  2],\n",
              "       [86, 94,  1],\n",
              "       [65, 65,  2],\n",
              "       [86, 26,  2],\n",
              "       [13, 62,  2],\n",
              "       [58, 41,  2],\n",
              "       [ 6, 54,  2]])"
            ]
          },
          "metadata": {},
          "execution_count": 13
        }
      ]
    },
    {
      "cell_type": "code",
      "source": [
        "plt.scatter(df[:,0:1],df[:,1:2])\n",
        "plt.show()"
      ],
      "metadata": {
        "colab": {
          "base_uri": "https://localhost:8080/",
          "height": 430
        },
        "id": "Z3I1IL4gwgWA",
        "outputId": "6d10ef5a-f213-43c9-ee49-953dfc35d1ae"
      },
      "execution_count": null,
      "outputs": [
        {
          "output_type": "display_data",
          "data": {
            "text/plain": [
              "<Figure size 640x480 with 1 Axes>"
            ],
            "image/png": "[encoded data removed]"
          },
          "metadata": {}
        }
      ]
    },
    {
      "cell_type": "code",
      "source": [
        "test = []\n",
        "for i in range(10):\n",
        "  point = [random.randint(1,100) for i in range(2)]\n",
        "  test.append(point)\n",
        "test\n",
        "test_df = test\n",
        "test_df"
      ],
      "metadata": {
        "colab": {
          "base_uri": "https://localhost:8080/"
        },
        "id": "CX_3Wae1w8Kh",
        "outputId": "ebc9affb-7e1e-4517-fb08-4854ccade857"
      },
      "execution_count": null,
      "outputs": [
        {
          "output_type": "execute_result",
          "data": {
            "text/plain": [
              "[[57, 70],\n",
              " [68, 37],\n",
              " [90, 18],\n",
              " [38, 5],\n",
              " [79, 52],\n",
              " [7, 51],\n",
              " [22, 11],\n",
              " [47, 90],\n",
              " [54, 92],\n",
              " [60, 49]]"
            ]
          },
          "metadata": {},
          "execution_count": 15
        }
      ]
    },
    {
      "cell_type": "code",
      "source": [
        "k = knn(df,test_df,7,2)\n",
        "k.predict()"
      ],
      "metadata": {
        "colab": {
          "base_uri": "https://localhost:8080/"
        },
        "id": "Uv7a3xp51zY4",
        "outputId": "a3c1152f-f597-4d7b-9c1c-e8d9a1298c9d"
      },
      "execution_count": null,
      "outputs": [
        {
          "output_type": "stream",
          "name": "stdout",
          "text": [
            "[1]\n",
            "[1]\n",
            "[2]\n",
            "[2]\n",
            "[1]\n",
            "[1]\n",
            "[2]\n",
            "[2]\n",
            "[2]\n",
            "[1]\n"
          ]
        },
        {
          "output_type": "execute_result",
          "data": {
            "text/plain": [
              "[1]"
            ]
          },
          "metadata": {},
          "execution_count": 16
        }
      ]
    },
    {
      "cell_type": "markdown",
      "source": [
        "K-Means implementation"
      ],
      "metadata": {
        "id": "3lU9VAi3GpYy"
      }
    },
    {
      "cell_type": "code",
      "source": [
        "# implementation of k-means algorithms\n",
        "class kmeans:\n",
        "  def __init__(self,k):\n",
        "    self.k = k\n",
        "    self.centroids= [[random.randint(1,100),random.randint(1,100)] for i in range(self.k)]\n",
        "\n",
        "  def calculate_distance(self,datapoints):\n",
        "    label = [-1]*(len(datapoints))\n",
        "    for point in range(len(datapoints)):\n",
        "      mn = 99999999\n",
        "      ind = -1\n",
        "      for i in range(len(self.centroids)):\n",
        "        dist = calculate_distance(datapoints[point],self.centroids[i])\n",
        "        if dist < mn:\n",
        "          mn = dist\n",
        "          ind = i\n",
        "      label[point] = ind\n",
        "    print(label)\n",
        "    return label\n",
        "\n",
        "  def update_centroids(self,label,datapoints):\n",
        "    new_centroids = []\n",
        "    for i in range(len(self.centroids)):\n",
        "      x = []\n",
        "      y = []\n",
        "      for j in range(len(datapoints)):\n",
        "        if label[j] == i:\n",
        "          x.append(datapoints[j][0])\n",
        "          y.append(datapoints[j][1])\n",
        "      x_mean = sum(x)/len(x) if len(x) !=0 else 0\n",
        "      y_mean = sum(y)/len(y) if len(x) !=0 else 0\n",
        "      new_centroids.append([x_mean,y_mean])\n",
        "    print(new_centroids)\n",
        "    return new_centroids\n",
        "\n",
        "  def kmeancluster(self,n,datapoints):\n",
        "\n",
        "    for i in range(n):\n",
        "      label = self.calculate_distance(datapoints)\n",
        "      self.centroids = self.update_centroids(label,datapoints)\n",
        "    return label,self.centroids"
      ],
      "metadata": {
        "id": "CO1jFInPGtlz"
      },
      "execution_count": null,
      "outputs": []
    },
    {
      "cell_type": "code",
      "source": [
        "# Define fixed test datapoints\n",
        "datapoints = [\n",
        "    [2, 3], [3, 4], [5, 6],  # Cluster 1 (expected)\n",
        "    [10, 12], [11, 14], [13, 15],  # Cluster 2 (expected)\n",
        "    [20, 25], [22, 27], [23, 26]  # Cluster 3 (expected)\n",
        "]\n",
        "\n",
        "# Initialize K-means with k=3\n",
        "kmeans_model = kmeans(k=3)\n",
        "\n",
        "# Set initial centroids manually for consistent results\n",
        "# kmeans_model.centroids = [[2, 3], [10, 12], [20, 25]]\n",
        "\n",
        "# Run the clustering algorithm for 5 iterations\n",
        "labels, centroids = kmeans_model.kmeancluster(n=5, datapoints=datapoints)\n",
        "\n",
        "# Print results\n",
        "print(\"\\nFinal Cluster Labels:\", labels)\n",
        "print(\"Final Centroids:\", centroids)\n"
      ],
      "metadata": {
        "colab": {
          "base_uri": "https://localhost:8080/"
        },
        "id": "wSiSm6dltfBv",
        "outputId": "40ba7fcf-379c-4ba6-ddf2-a625b8e8bf24"
      },
      "execution_count": null,
      "outputs": [
        {
          "output_type": "stream",
          "name": "stdout",
          "text": [
            "[2, 2, 2, 2, 2, 2, 2, 2, 2]\n",
            "[[0, 0], [0, 0], [12.11111111111111, 14.666666666666666]]\n",
            "[0, 0, 0, 2, 2, 2, 2, 2, 2]\n",
            "[[3.3333333333333335, 4.333333333333333], [0, 0], [16.5, 19.833333333333332]]\n",
            "[0, 0, 0, 0, 2, 2, 2, 2, 2]\n",
            "[[5.0, 6.25], [0, 0], [17.8, 21.4]]\n",
            "[1, 0, 0, 0, 0, 2, 2, 2, 2]\n",
            "[[7.25, 9.0], [2.0, 3.0], [19.5, 23.25]]\n",
            "[1, 1, 0, 0, 0, 0, 2, 2, 2]\n",
            "[[9.75, 11.75], [2.5, 3.5], [21.666666666666668, 26.0]]\n",
            "\n",
            "Final Cluster Labels: [1, 1, 0, 0, 0, 0, 2, 2, 2]\n",
            "Final Centroids: [[9.75, 11.75], [2.5, 3.5], [21.666666666666668, 26.0]]\n"
          ]
        }
      ]
    },
    {
      "cell_type": "code",
      "source": [],
      "metadata": {
        "id": "u3cO-A4Nt5mu"
      },
      "execution_count": null,
      "outputs": []
    }
  ]
}